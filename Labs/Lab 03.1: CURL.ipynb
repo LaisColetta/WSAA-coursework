{
 "cells": [
  {
   "cell_type": "code",
   "execution_count": null,
   "metadata": {},
   "outputs": [],
   "source": [
    "Data Representation\n",
    "Lab 03.1: CURL\n",
    "Lecturer: Andrew Beatty\n",
    "• In this lab we will make some CURL commands on the command line.\n",
    "• NOTE the REST API I just made does not link to a database, so sometimes the updates you\n",
    "make will not appear, (this is due to the HTTP requests being load balanced across servers)\n",
    "1. Test to see if CURL is working from you command line.\n",
    "You should get a 301 error saying that the page has moved\n",
    "2. You can check this by using the –i option\n",
    "3. Look at my API in the lecture url http://andrewbeatty1.pythonanywhere.com/\n",
    "a. How would you get all books (this may take a few seconds)\n",
    "b. How would you get the book with id 17\n",
    "curl google.com\n",
    "curl http://andrewbeatty1.pythonanywhere.com/books\n",
    "curl http://andrewbeatty1.pythonanywhere.com/books/17\n",
    "curl -i google.com\n",
    "4. For the same website how would you use curl to create book, NOTE the id of the book you\n",
    "made. You can test if your book is there using the find by id.\n",
    "a. Mac\n",
    "b. Windows (windows only has “ (no ‘) so the data needs to be between “ “ and all the\n",
    "inverted commas in the JSON need to be escaped \\”. (This is a pain)\n",
    "curl -H \"Content-Type:application/json\" -X POST -d\n",
    "\"{\\\"Title\\\":\\\"xxx\\\",\\\"Author\\\":\\\"xxx\\\",\\\"Price\\\":3000}\"\n",
    "http://andrewbeatty1.pythonanywhere.com/books\n",
    "curl -H \"Content-Type:application/json\" -X POST -d\n",
    "‘{\"Title\":“xxx\",\"Author\":“xxx\",\"Price\":3000}’\n",
    "http://andrewbeatty1.pythonanywhere.com/books\n",
    "5. For the same website how would you use curl to update a book (use your book)\n",
    "a. Mac\n",
    "b. Windows\n",
    "6. For the same web site how would you use curl to delete the book you just made\n",
    "7. Try doing the same with postman\n",
    "curl -H \"Content-Type:application/json\" -X PUT\n",
    "-d ‘{\"Price\":2000}’\n",
    "http://andrewbeatty1.pythonanywhere.com/books/???\n",
    "curl -H \"Content-Type:application/json\" -X PUT\n",
    "-d \"{\\\"Price\\\":2000}\"\n",
    "http://andrewbeatty1.pythonanywhere.com/books/???\n",
    "curl -X DELETE http://andrewbeatty1.pythonanywhere.com/books/??\n",
    "The id of the one you just\n",
    "made"
   ]
  }
 ],
 "metadata": {
  "language_info": {
   "name": "python"
  }
 },
 "nbformat": 4,
 "nbformat_minor": 2
}
