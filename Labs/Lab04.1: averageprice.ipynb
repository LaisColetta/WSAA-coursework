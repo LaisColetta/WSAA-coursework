{
 "cells": [
  {
   "cell_type": "code",
   "execution_count": 3,
   "metadata": {},
   "outputs": [
    {
     "ename": "JSONDecodeError",
     "evalue": "[Errno Expecting value] <html>\n    <head>\n        <title>Something went wrong :-(</title>\n        <link href=\"https://maxcdn.bootstrapcdn.com/bootstrap/3.3.5/css/bootstrap.min.css\" rel=\"stylesheet\" integrity=\"sha384-pdapHxIh7EYuwy6K7iE41uXVxGCXY0sAjBzaElYGJUrzwodck3Lx6IE2lA0rFREo\" crossorigin=\"anonymous\">\n        <style>\n            body {\n                font-family: Helvetica, Arial, sans-serif;\n                width: 500px;\n                margin-left: auto;\n                margin-right: auto;\n                margin-top: 20px;\n            }\n            .for-site-owner {\n                font-size: smaller;\n            }\n        </style>\n    </head>\n\n    <body>\n        <div class=\"main\">\n            <div class=\"header\">\n                <h1>Something went wrong :-(</h1>\n\n                <p>\n                    Something went wrong while trying to load this site;\n                    please try again later.\n                </p>\n\n                <div class=\"for-site-owner\">\n                    <h2>Debugging tips</h2>\n                    <p>\n                        If this is your site, and you just reloaded\n                        it, then the problem might simply be that it hasn't loaded up yet.\n                        Try refreshing this page and see if this message disappears.\n                    </p>\n                    <p>\n                        If you keep getting this message, you should check your site's\n                        server and error logs for any messages.\n                    </p>\n               </div>\n\n                <p>\n                    Error code: 502-backend\n                </p>\n            </div>\n        </div>\n    </body>\n</html>\n: 0",
     "output_type": "error",
     "traceback": [
      "\u001b[0;31m---------------------------------------------------------------------------\u001b[0m",
      "\u001b[0;31mJSONDecodeError\u001b[0m                           Traceback (most recent call last)",
      "File \u001b[0;32m/Applications/anaconda3/lib/python3.9/site-packages/requests/models.py:910\u001b[0m, in \u001b[0;36mResponse.json\u001b[0;34m(self, **kwargs)\u001b[0m\n\u001b[1;32m    909\u001b[0m \u001b[39mtry\u001b[39;00m:\n\u001b[0;32m--> 910\u001b[0m     \u001b[39mreturn\u001b[39;00m complexjson\u001b[39m.\u001b[39;49mloads(\u001b[39mself\u001b[39;49m\u001b[39m.\u001b[39;49mtext, \u001b[39m*\u001b[39;49m\u001b[39m*\u001b[39;49mkwargs)\n\u001b[1;32m    911\u001b[0m \u001b[39mexcept\u001b[39;00m JSONDecodeError \u001b[39mas\u001b[39;00m e:\n\u001b[1;32m    912\u001b[0m     \u001b[39m# Catch JSON-related errors and raise as requests.JSONDecodeError\u001b[39;00m\n\u001b[1;32m    913\u001b[0m     \u001b[39m# This aliases json.JSONDecodeError and simplejson.JSONDecodeError\u001b[39;00m\n",
      "File \u001b[0;32m/Applications/anaconda3/lib/python3.9/json/__init__.py:346\u001b[0m, in \u001b[0;36mloads\u001b[0;34m(s, cls, object_hook, parse_float, parse_int, parse_constant, object_pairs_hook, **kw)\u001b[0m\n\u001b[1;32m    343\u001b[0m \u001b[39mif\u001b[39;00m (\u001b[39mcls\u001b[39m \u001b[39mis\u001b[39;00m \u001b[39mNone\u001b[39;00m \u001b[39mand\u001b[39;00m object_hook \u001b[39mis\u001b[39;00m \u001b[39mNone\u001b[39;00m \u001b[39mand\u001b[39;00m\n\u001b[1;32m    344\u001b[0m         parse_int \u001b[39mis\u001b[39;00m \u001b[39mNone\u001b[39;00m \u001b[39mand\u001b[39;00m parse_float \u001b[39mis\u001b[39;00m \u001b[39mNone\u001b[39;00m \u001b[39mand\u001b[39;00m\n\u001b[1;32m    345\u001b[0m         parse_constant \u001b[39mis\u001b[39;00m \u001b[39mNone\u001b[39;00m \u001b[39mand\u001b[39;00m object_pairs_hook \u001b[39mis\u001b[39;00m \u001b[39mNone\u001b[39;00m \u001b[39mand\u001b[39;00m \u001b[39mnot\u001b[39;00m kw):\n\u001b[0;32m--> 346\u001b[0m     \u001b[39mreturn\u001b[39;00m _default_decoder\u001b[39m.\u001b[39;49mdecode(s)\n\u001b[1;32m    347\u001b[0m \u001b[39mif\u001b[39;00m \u001b[39mcls\u001b[39m \u001b[39mis\u001b[39;00m \u001b[39mNone\u001b[39;00m:\n",
      "File \u001b[0;32m/Applications/anaconda3/lib/python3.9/json/decoder.py:337\u001b[0m, in \u001b[0;36mJSONDecoder.decode\u001b[0;34m(self, s, _w)\u001b[0m\n\u001b[1;32m    333\u001b[0m \u001b[39m\"\"\"Return the Python representation of ``s`` (a ``str`` instance\u001b[39;00m\n\u001b[1;32m    334\u001b[0m \u001b[39mcontaining a JSON document).\u001b[39;00m\n\u001b[1;32m    335\u001b[0m \n\u001b[1;32m    336\u001b[0m \u001b[39m\"\"\"\u001b[39;00m\n\u001b[0;32m--> 337\u001b[0m obj, end \u001b[39m=\u001b[39m \u001b[39mself\u001b[39;49m\u001b[39m.\u001b[39;49mraw_decode(s, idx\u001b[39m=\u001b[39;49m_w(s, \u001b[39m0\u001b[39;49m)\u001b[39m.\u001b[39;49mend())\n\u001b[1;32m    338\u001b[0m end \u001b[39m=\u001b[39m _w(s, end)\u001b[39m.\u001b[39mend()\n",
      "File \u001b[0;32m/Applications/anaconda3/lib/python3.9/json/decoder.py:355\u001b[0m, in \u001b[0;36mJSONDecoder.raw_decode\u001b[0;34m(self, s, idx)\u001b[0m\n\u001b[1;32m    354\u001b[0m \u001b[39mexcept\u001b[39;00m \u001b[39mStopIteration\u001b[39;00m \u001b[39mas\u001b[39;00m err:\n\u001b[0;32m--> 355\u001b[0m     \u001b[39mraise\u001b[39;00m JSONDecodeError(\u001b[39m\"\u001b[39m\u001b[39mExpecting value\u001b[39m\u001b[39m\"\u001b[39m, s, err\u001b[39m.\u001b[39mvalue) \u001b[39mfrom\u001b[39;00m \u001b[39mNone\u001b[39m\n\u001b[1;32m    356\u001b[0m \u001b[39mreturn\u001b[39;00m obj, end\n",
      "\u001b[0;31mJSONDecodeError\u001b[0m: Expecting value: line 1 column 1 (char 0)",
      "\nDuring handling of the above exception, another exception occurred:\n",
      "\u001b[0;31mJSONDecodeError\u001b[0m                           Traceback (most recent call last)",
      "\u001b[1;32m/Users/laiscoletta/Desktop/DA-4th Semester/Data_Representation/data-representation-coursework/Labs/Lab04.1: averageprice.ipynb Cell 1\u001b[0m line \u001b[0;36m<cell line: 3>\u001b[0;34m()\u001b[0m\n\u001b[1;32m      <a href='vscode-notebook-cell:/Users/laiscoletta/Desktop/DA-4th%20Semester/Data_Representation/data-representation-coursework/Labs/Lab04.1%3A%20averageprice.ipynb#W0sZmlsZQ%3D%3D?line=0'>1</a>\u001b[0m \u001b[39mfrom\u001b[39;00m \u001b[39mbookapidao\u001b[39;00m \u001b[39mimport\u001b[39;00m getAllBooks\n\u001b[0;32m----> <a href='vscode-notebook-cell:/Users/laiscoletta/Desktop/DA-4th%20Semester/Data_Representation/data-representation-coursework/Labs/Lab04.1%3A%20averageprice.ipynb#W0sZmlsZQ%3D%3D?line=2'>3</a>\u001b[0m books \u001b[39m=\u001b[39m getAllBooks()\n\u001b[1;32m      <a href='vscode-notebook-cell:/Users/laiscoletta/Desktop/DA-4th%20Semester/Data_Representation/data-representation-coursework/Labs/Lab04.1%3A%20averageprice.ipynb#W0sZmlsZQ%3D%3D?line=3'>4</a>\u001b[0m total \u001b[39m=\u001b[39m \u001b[39m0\u001b[39m\n\u001b[1;32m      <a href='vscode-notebook-cell:/Users/laiscoletta/Desktop/DA-4th%20Semester/Data_Representation/data-representation-coursework/Labs/Lab04.1%3A%20averageprice.ipynb#W0sZmlsZQ%3D%3D?line=4'>5</a>\u001b[0m count \u001b[39m=\u001b[39m \u001b[39m0\u001b[39m\n",
      "File \u001b[0;32m~/Desktop/DA-4th Semester/Data_Representation/data-representation-coursework/Labs/bookapidao.py:11\u001b[0m, in \u001b[0;36mgetAllBooks\u001b[0;34m()\u001b[0m\n\u001b[1;32m      9\u001b[0m \u001b[39mdef\u001b[39;00m \u001b[39mgetAllBooks\u001b[39m():\n\u001b[1;32m     10\u001b[0m     response \u001b[39m=\u001b[39m requests\u001b[39m.\u001b[39mget(url)\n\u001b[0;32m---> 11\u001b[0m     \u001b[39mreturn\u001b[39;00m response\u001b[39m.\u001b[39;49mjson()\n",
      "File \u001b[0;32m/Applications/anaconda3/lib/python3.9/site-packages/requests/models.py:917\u001b[0m, in \u001b[0;36mResponse.json\u001b[0;34m(self, **kwargs)\u001b[0m\n\u001b[1;32m    915\u001b[0m     \u001b[39mraise\u001b[39;00m RequestsJSONDecodeError(e\u001b[39m.\u001b[39mmessage)\n\u001b[1;32m    916\u001b[0m \u001b[39melse\u001b[39;00m:\n\u001b[0;32m--> 917\u001b[0m     \u001b[39mraise\u001b[39;00m RequestsJSONDecodeError(e\u001b[39m.\u001b[39mmsg, e\u001b[39m.\u001b[39mdoc, e\u001b[39m.\u001b[39mpos)\n",
      "\u001b[0;31mJSONDecodeError\u001b[0m: [Errno Expecting value] <html>\n    <head>\n        <title>Something went wrong :-(</title>\n        <link href=\"https://maxcdn.bootstrapcdn.com/bootstrap/3.3.5/css/bootstrap.min.css\" rel=\"stylesheet\" integrity=\"sha384-pdapHxIh7EYuwy6K7iE41uXVxGCXY0sAjBzaElYGJUrzwodck3Lx6IE2lA0rFREo\" crossorigin=\"anonymous\">\n        <style>\n            body {\n                font-family: Helvetica, Arial, sans-serif;\n                width: 500px;\n                margin-left: auto;\n                margin-right: auto;\n                margin-top: 20px;\n            }\n            .for-site-owner {\n                font-size: smaller;\n            }\n        </style>\n    </head>\n\n    <body>\n        <div class=\"main\">\n            <div class=\"header\">\n                <h1>Something went wrong :-(</h1>\n\n                <p>\n                    Something went wrong while trying to load this site;\n                    please try again later.\n                </p>\n\n                <div class=\"for-site-owner\">\n                    <h2>Debugging tips</h2>\n                    <p>\n                        If this is your site, and you just reloaded\n                        it, then the problem might simply be that it hasn't loaded up yet.\n                        Try refreshing this page and see if this message disappears.\n                    </p>\n                    <p>\n                        If you keep getting this message, you should check your site's\n                        server and error logs for any messages.\n                    </p>\n               </div>\n\n                <p>\n                    Error code: 502-backend\n                </p>\n            </div>\n        </div>\n    </body>\n</html>\n: 0"
     ]
    }
   ],
   "source": [
    "from bookapidao import getAllBooks\n",
    "\n",
    "books = getAllBooks()\n",
    "total = 0\n",
    "count = 0\n",
    "for book in books:\n",
    "    total += book[\"Price\"]\n",
    "    count += 1\n",
    "\n",
    "print (\"average of \", count, \"books is \", total/count )"
   ]
  },
  {
   "cell_type": "markdown",
   "metadata": {},
   "source": []
  }
 ],
 "metadata": {
  "kernelspec": {
   "display_name": "base",
   "language": "python",
   "name": "python3"
  },
  "language_info": {
   "codemirror_mode": {
    "name": "ipython",
    "version": 3
   },
   "file_extension": ".py",
   "mimetype": "text/x-python",
   "name": "python",
   "nbconvert_exporter": "python",
   "pygments_lexer": "ipython3",
   "version": "3.9.12"
  }
 },
 "nbformat": 4,
 "nbformat_minor": 2
}
